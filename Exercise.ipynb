{
 "cells": [
  {
   "cell_type": "code",
   "execution_count": 1,
   "id": "52fc9499",
   "metadata": {},
   "outputs": [],
   "source": [
    "data = '''Data science is an Interdisciplinary academic field that Uses statistics,\n",
    "scientific computing, scientific a methods, processes, Algorithms and systems to extract or \n",
    "extrapolate knowledge and Insights from noisy, structured, and Unstructured data. '''"
   ]
  },
  {
   "cell_type": "code",
   "execution_count": 2,
   "id": "10d936f8",
   "metadata": {},
   "outputs": [],
   "source": [
    "import re"
   ]
  },
  {
   "cell_type": "code",
   "execution_count": 6,
   "id": "ab39d2d7",
   "metadata": {},
   "outputs": [
    {
     "name": "stdout",
     "output_type": "stream",
     "text": [
      "[]\n"
     ]
    }
   ],
   "source": [
    "sol = re.findall(\"r\\b[aeiouAEIOU][a-zA-Z]*\\b\",data)\n",
    "print(sol)"
   ]
  },
  {
   "cell_type": "code",
   "execution_count": 7,
   "id": "f41e33b5",
   "metadata": {},
   "outputs": [
    {
     "name": "stdout",
     "output_type": "stream",
     "text": [
      "['is', 'an', 'Interdisciplinary', 'academic', 'Uses', 'a', 'Algorithms', 'and', 'extract', 'or', 'extrapolate', 'and', 'Insights', 'and', 'Unstructured']\n"
     ]
    }
   ],
   "source": [
    "sol = re.findall(r'\\b[aeiouAEIOU][a-zA-Z]*\\b', data)\n",
    "print(sol)"
   ]
  },
  {
   "cell_type": "code",
   "execution_count": 8,
   "id": "6e9165f3",
   "metadata": {},
   "outputs": [
    {
     "data": {
      "text/plain": [
       "['is',\n",
       " 'an',\n",
       " 'interdisciplinary',\n",
       " 'academic',\n",
       " 'uses',\n",
       " 'a',\n",
       " 'algorithms',\n",
       " 'and',\n",
       " 'extract',\n",
       " 'or',\n",
       " 'extrapolate',\n",
       " 'and',\n",
       " 'insights',\n",
       " 'and',\n",
       " 'unstructured']"
      ]
     },
     "execution_count": 8,
     "metadata": {},
     "output_type": "execute_result"
    }
   ],
   "source": [
    "a= list('aeiou')\n",
    "\n",
    "[i for i in data.lower().split() for j in a if i[0]== j]"
   ]
  },
  {
   "cell_type": "code",
   "execution_count": 9,
   "id": "0894d21e",
   "metadata": {},
   "outputs": [
    {
     "name": "stdout",
     "output_type": "stream",
     "text": [
      "['is', 'an', 'Interdisciplinary', 'academic', 'Uses', 'a', 'Algorithms', 'and', 'extract', 'or', 'extrapolate', 'and', 'Insights', 'and', 'Unstructured']\n"
     ]
    }
   ],
   "source": [
    "matches = re.findall(r'(?:^|(?<=[\\W_]))[aeiou][^\\W_]*(?=[\\s_]|$)', data, re.I)\n",
    "print(matches)"
   ]
  },
  {
   "cell_type": "code",
   "execution_count": 10,
   "id": "c220eb65",
   "metadata": {},
   "outputs": [
    {
     "name": "stdout",
     "output_type": "stream",
     "text": [
      "['is', 'an', 'Interdisciplinary', 'academic', 'Uses', 'Algorithms', 'and', 'extract', 'or', 'extrapolate', 'and', 'Insights', 'and', 'Unstructured']\n"
     ]
    }
   ],
   "source": [
    "words = re.findall(r'\\b[aeiouAEIOU]\\w+\\b', data)\n",
    "print(words)"
   ]
  },
  {
   "cell_type": "code",
   "execution_count": 11,
   "id": "e4449542",
   "metadata": {},
   "outputs": [
    {
     "name": "stdout",
     "output_type": "stream",
     "text": [
      "['is', 'an', 'Interdisciplinary', 'academic', 'Uses', 'a', 'Algorithms', 'and', 'extract', 'or', 'extrapolate', 'and', 'Insights', 'and', 'Unstructured']\n"
     ]
    }
   ],
   "source": [
    "abc=re.findall(r'\\b[a|u|i|o|e|A|E|I|O|U][a-z]*\\b',data)\n",
    "print(abc)"
   ]
  },
  {
   "cell_type": "code",
   "execution_count": null,
   "id": "61b879ac",
   "metadata": {},
   "outputs": [],
   "source": []
  },
  {
   "cell_type": "code",
   "execution_count": null,
   "id": "2009fb43",
   "metadata": {},
   "outputs": [],
   "source": [
    "data = \"98596 Virat Kohli\" # regex\n",
    "\n",
    "res = re.findall('[A-Z]+', data)\n",
    "\n",
    "import re\n",
    "result = re.findall('[a-zA-z]+',data)\n",
    "print(result)\n",
    "\n",
    "result = re.findall(r'\\b[A-z\\s]+\\b', data)\n",
    "result\n",
    "\n",
    "import re\n",
    "data = \"98596 Virat Kohli\" # regex\n",
    "s=re.findall('[A-z]{1,6}',data)\n",
    "print(s)\n",
    "\n",
    "res = re.findall('[a-z]+', data)\n",
    "\n",
    "import re\n",
    "data='98585 Virat Kohli'\n",
    "re.findall('[a-z A-Z]+',data)\n",
    "\n",
    "data = \"98596 Virat Kohli\" \n",
    "result = re.findall(\"[A-Za-z\\s]{1,40}\",data)\n",
    "result\n",
    "\n",
    "import re\n",
    "\n",
    "re.findall('[a-z A-Z]+',data)\n",
    "\n",
    "data = \"98596 Virat Kohli\" \n",
    "result = re.findall(\"[A-Za-z\\s]{1,40}\",data)\n",
    "print(result[0].strip())\n",
    "\n",
    "import re\n",
    "data='98585 Virat Kohli'\n",
    "re.findall('[a-zA-Z]+[\\s][a-zA-z]+',data)\n",
    "\n",
    "a = re.findall('[A-Za-z]+', data)\n",
    "a\n",
    "\n",
    "import re\n",
    "data = \"98596 Virat Kohli\" # regex\n",
    "res = re.findall(r'\\b[A-z]+\\s[A-z]+', data)\n",
    "print(res)\n",
    "\n",
    "data1 = \"$16526 $12255.25555\" # 16526"
   ]
  },
  {
   "cell_type": "code",
   "execution_count": 2,
   "id": "23563f9b",
   "metadata": {},
   "outputs": [],
   "source": [
    "import re"
   ]
  },
  {
   "cell_type": "code",
   "execution_count": 3,
   "id": "7a104080",
   "metadata": {
    "scrolled": true
   },
   "outputs": [
    {
     "data": {
      "text/plain": [
       "'16526'"
      ]
     },
     "execution_count": 3,
     "metadata": {},
     "output_type": "execute_result"
    }
   ],
   "source": [
    "data1 = \"$16526 $12255.25555\" \n",
    "re.search('\\d+',data1).group()"
   ]
  },
  {
   "cell_type": "code",
   "execution_count": 4,
   "id": "11a40e44",
   "metadata": {},
   "outputs": [
    {
     "name": "stdout",
     "output_type": "stream",
     "text": [
      " Virat Kohli\n"
     ]
    }
   ],
   "source": [
    "import re\n",
    "\n",
    "data = \"98596 Virat Kohli\" \n",
    "result = re.sub(\"[^A-Za-z\\s]{1,40}\",'',data)\n",
    "print(result)"
   ]
  },
  {
   "cell_type": "code",
   "execution_count": null,
   "id": "47ee016a",
   "metadata": {},
   "outputs": [],
   "source": []
  },
  {
   "cell_type": "code",
   "execution_count": null,
   "id": "13f26324",
   "metadata": {},
   "outputs": [],
   "source": [
    "https://github.com/UB-Mannheim/tesseract/wiki\n",
    "Simple steps for tesseract installation in windows:\n",
    "    \n",
    "    1. Download tesseract exe from https://github.com/UB-Mannheim/tesseract/wiki\n",
    "        \n",
    "    2. Install this exe in C:\\Program Files/Tesseract-OCR\n",
    "        \n",
    "    3. Open Virtual Machine command prompt in windows or anaconda prompt\n",
    "    \n",
    "    4. Run pip install pytesseract\n",
    "        pip install tesseract\n",
    "        pip install pdf2image"
   ]
  },
  {
   "cell_type": "code",
   "execution_count": null,
   "id": "4819867e",
   "metadata": {},
   "outputs": [],
   "source": []
  },
  {
   "cell_type": "code",
   "execution_count": 1,
   "id": "c0a6749d",
   "metadata": {},
   "outputs": [],
   "source": [
    "import datetime"
   ]
  },
  {
   "cell_type": "code",
   "execution_count": 2,
   "id": "69135690",
   "metadata": {},
   "outputs": [],
   "source": [
    "import time"
   ]
  },
  {
   "cell_type": "code",
   "execution_count": 3,
   "id": "21670398",
   "metadata": {},
   "outputs": [
    {
     "name": "stdout",
     "output_type": "stream",
     "text": [
      "Yesterdays date: 2023-10-11\n",
      "Todays date:  2023-10-12\n",
      "Tomorrows date:  2023-10-13\n"
     ]
    }
   ],
   "source": [
    "current_date_time = datetime.datetime.now()\n",
    "today=current_date_time.date()\n",
    "yesterday = today - datetime.timedelta(days = 1)\n",
    "tomorrow = today + datetime.timedelta(days = 1)\n",
    "print(f'Yesterdays date:',yesterday)\n",
    "print(f'Todays date: ', today)\n",
    "print(f'Tomorrows date: ', tomorrow)"
   ]
  },
  {
   "cell_type": "code",
   "execution_count": 9,
   "id": "604d5c72",
   "metadata": {},
   "outputs": [
    {
     "name": "stdout",
     "output_type": "stream",
     "text": [
      "All Sundays of the 2023:\n",
      "2023-01-01\n",
      "2023-01-08\n",
      "2023-01-15\n",
      "2023-01-22\n",
      "2023-01-29\n",
      "2023-02-05\n",
      "2023-02-12\n",
      "2023-02-19\n",
      "2023-02-26\n",
      "2023-03-05\n",
      "2023-03-12\n",
      "2023-03-19\n",
      "2023-03-26\n",
      "2023-04-02\n",
      "2023-04-09\n",
      "2023-04-16\n",
      "2023-04-23\n",
      "2023-04-30\n",
      "2023-05-07\n",
      "2023-05-14\n",
      "2023-05-21\n",
      "2023-05-28\n",
      "2023-06-04\n",
      "2023-06-11\n",
      "2023-06-18\n",
      "2023-06-25\n",
      "2023-07-02\n",
      "2023-07-09\n",
      "2023-07-16\n",
      "2023-07-23\n",
      "2023-07-30\n",
      "2023-08-06\n",
      "2023-08-13\n",
      "2023-08-20\n",
      "2023-08-27\n",
      "2023-09-03\n",
      "2023-09-10\n",
      "2023-09-17\n",
      "2023-09-24\n",
      "2023-10-01\n",
      "2023-10-08\n",
      "2023-10-15\n",
      "2023-10-22\n",
      "2023-10-29\n",
      "2023-11-05\n",
      "2023-11-12\n",
      "2023-11-19\n",
      "2023-11-26\n",
      "2023-12-03\n",
      "2023-12-10\n",
      "2023-12-17\n",
      "2023-12-24\n",
      "2023-12-31\n"
     ]
    }
   ],
   "source": [
    "year = '2023'\n",
    "sunday = '0'\n",
    "print(f\"All Sundays of the {year}:\")\n",
    "for week in range(53):\n",
    "    print(datetime.datetime.strptime(year + str(week) + sunday, '%Y%W%w').date())"
   ]
  },
  {
   "cell_type": "code",
   "execution_count": 6,
   "id": "6f9561ac",
   "metadata": {},
   "outputs": [
    {
     "name": "stdout",
     "output_type": "stream",
     "text": [
      "1\n"
     ]
    }
   ],
   "source": [
    "print(str(1))"
   ]
  }
 ],
 "metadata": {
  "kernelspec": {
   "display_name": "Python 3 (ipykernel)",
   "language": "python",
   "name": "python3"
  },
  "language_info": {
   "codemirror_mode": {
    "name": "ipython",
    "version": 3
   },
   "file_extension": ".py",
   "mimetype": "text/x-python",
   "name": "python",
   "nbconvert_exporter": "python",
   "pygments_lexer": "ipython3",
   "version": "3.9.7"
  }
 },
 "nbformat": 4,
 "nbformat_minor": 5
}
